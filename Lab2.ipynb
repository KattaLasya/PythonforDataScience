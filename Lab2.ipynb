{
  "nbformat": 4,
  "nbformat_minor": 0,
  "metadata": {
    "colab": {
      "provenance": [],
      "authorship_tag": "ABX9TyPaRgM6dJtbSXiflp51y1W8",
      "include_colab_link": true
    },
    "kernelspec": {
      "name": "python3",
      "display_name": "Python 3"
    },
    "language_info": {
      "name": "python"
    }
  },
  "cells": [
    {
      "cell_type": "markdown",
      "metadata": {
        "id": "view-in-github",
        "colab_type": "text"
      },
      "source": [
        "<a href=\"https://colab.research.google.com/github/KattaLasya/PythonforDataScience/blob/main/Lab2.ipynb\" target=\"_parent\"><img src=\"https://colab.research.google.com/assets/colab-badge.svg\" alt=\"Open In Colab\"/></a>"
      ]
    },
    {
      "cell_type": "markdown",
      "source": [
        "Question 1"
      ],
      "metadata": {
        "id": "eFV5kBz8rRbb"
      }
    },
    {
      "cell_type": "code",
      "source": [
        "import numpy as np\n",
        "\n",
        "marks = np.array([\n",
        "    [85, 78, 92],\n",
        "    [76, 88, 85],\n",
        "    [90, 95, 93],\n",
        "    [66, 70, 72],\n",
        "    [89, 84, 91]\n",
        "])\n",
        "\n",
        "print(\"Student Marks (Rows: Students, Columns: Subjects):\")\n",
        "print(marks)\n",
        "\n",
        "avg_marks = np.mean(marks, axis=0)\n",
        "min_marks = np.min(marks, axis=0)\n",
        "max_marks = np.max(marks, axis=0)\n",
        "\n",
        "print(\"\\nAverage Marks:\", avg_marks)\n",
        "print(\"Minimum Marks:\", min_marks)\n",
        "print(\"Maximum Marks:\", max_marks)\n",
        "\n",
        "student2_marks = marks[1]\n",
        "print(\"\\nMarks of Student 2:\", student2_marks)\n",
        "\n",
        "first_three_students = marks[:3]\n",
        "print(\"Marks of First 3 Students:\\n\", first_three_students)\n",
        "\n",
        "above_80 = marks > 80\n",
        "students_above_80 = np.any(above_80, axis=1)\n",
        "print(\"\\nBoolean array for marks > 80:\\n\", above_80)\n",
        "print(\"Students scoring above 80 in any subject:\", students_above_80)\n",
        "\n",
        "students_scores_above_80 = marks[students_above_80]\n",
        "print(\"Marks of Students scoring above 80 in any subject:\\n\", students_scores_above_80)\n",
        "\n",
        "subject_wise = marks.T\n",
        "print(\"\\nSubject-wise Performance (Rows: Subjects, Columns: Students):\")\n",
        "print(subject_wise)"
      ],
      "metadata": {
        "colab": {
          "base_uri": "https://localhost:8080/"
        },
        "id": "WRxbg528rbg-",
        "outputId": "d692c2ab-87f2-4db8-b40f-52258c2038ba"
      },
      "execution_count": 5,
      "outputs": [
        {
          "output_type": "stream",
          "name": "stdout",
          "text": [
            "Student Marks (Rows: Students, Columns: Subjects):\n",
            "[[85 78 92]\n",
            " [76 88 85]\n",
            " [90 95 93]\n",
            " [66 70 72]\n",
            " [89 84 91]]\n",
            "\n",
            "Average Marks: [81.2 83.  86.6]\n",
            "Minimum Marks: [66 70 72]\n",
            "Maximum Marks: [90 95 93]\n",
            "\n",
            "Marks of Student 2: [76 88 85]\n",
            "Marks of First 3 Students:\n",
            " [[85 78 92]\n",
            " [76 88 85]\n",
            " [90 95 93]]\n",
            "\n",
            "Boolean array for marks > 80:\n",
            " [[ True False  True]\n",
            " [False  True  True]\n",
            " [ True  True  True]\n",
            " [False False False]\n",
            " [ True  True  True]]\n",
            "Students scoring above 80 in any subject: [ True  True  True False  True]\n",
            "Marks of Students scoring above 80 in any subject:\n",
            " [[85 78 92]\n",
            " [76 88 85]\n",
            " [90 95 93]\n",
            " [89 84 91]]\n",
            "\n",
            "Subject-wise Performance (Rows: Subjects, Columns: Students):\n",
            "[[85 76 90 66 89]\n",
            " [78 88 95 70 84]\n",
            " [92 85 93 72 91]]\n"
          ]
        }
      ]
    },
    {
      "cell_type": "markdown",
      "source": [
        "Question 2"
      ],
      "metadata": {
        "id": "l0ZTm0nHz5Ip"
      }
    },
    {
      "cell_type": "code",
      "source": [
        "import pandas as pd\n",
        "\n",
        "employee_data = {\n",
        "    'Name': ['Alice', 'Bob', 'Charlie', 'Diana', 'Ethan'],\n",
        "    'ID': [101, 102, 103, 104, 105],\n",
        "    'Department': ['HR', 'IT', 'Finance', 'Marketing', 'IT'],\n",
        "    'Salary': [48000, 52000, 60000, 45000, 75000]\n",
        "}\n",
        "\n",
        "df = pd.DataFrame(employee_data)\n",
        "print(\"Initial Employee DataFrame:\\n\", df)\n",
        "\n",
        "high_earners = df[df['Salary'] > 50000]\n",
        "print(\"\\nEmployees with Salary > 50,000:\\n\", high_earners)\n",
        "\n",
        "sorted_df = df.sort_values(by='Salary', ascending=False)\n",
        "print(\"\\nDataFrame Sorted by Salary (Descending):\\n\", sorted_df)\n",
        "\n",
        "df['Bonus'] = df['Salary'] * 0.10\n",
        "print(\"\\nDataFrame with Bonus Column:\\n\", df)\n",
        "\n",
        "df['Total_Compensation'] = df['Salary'] + df['Bonus']\n",
        "total_expense = df['Total_Compensation'].sum()\n",
        "print(\"\\nTotal Salary Expense Including Bonuses: ${:,.2f}\".format(total_expense))\n",
        "\n",
        "csv_filename = \"employee_salary_data.csv\"\n",
        "df.to_csv(csv_filename, index=False)\n",
        "print(f\"\\nDataFrame saved to CSV file: {csv_filename}\")"
      ],
      "metadata": {
        "colab": {
          "base_uri": "https://localhost:8080/"
        },
        "id": "hPDieTMy0AOf",
        "outputId": "d4b6412e-b07e-43a1-b78a-61d7f013ff05"
      },
      "execution_count": 4,
      "outputs": [
        {
          "output_type": "stream",
          "name": "stdout",
          "text": [
            "Initial Employee DataFrame:\n",
            "       Name   ID Department  Salary\n",
            "0    Alice  101         HR   48000\n",
            "1      Bob  102         IT   52000\n",
            "2  Charlie  103    Finance   60000\n",
            "3    Diana  104  Marketing   45000\n",
            "4    Ethan  105         IT   75000\n",
            "\n",
            "Employees with Salary > 50,000:\n",
            "       Name   ID Department  Salary\n",
            "1      Bob  102         IT   52000\n",
            "2  Charlie  103    Finance   60000\n",
            "4    Ethan  105         IT   75000\n",
            "\n",
            "DataFrame Sorted by Salary (Descending):\n",
            "       Name   ID Department  Salary\n",
            "4    Ethan  105         IT   75000\n",
            "2  Charlie  103    Finance   60000\n",
            "1      Bob  102         IT   52000\n",
            "0    Alice  101         HR   48000\n",
            "3    Diana  104  Marketing   45000\n",
            "\n",
            "DataFrame with Bonus Column:\n",
            "       Name   ID Department  Salary   Bonus\n",
            "0    Alice  101         HR   48000  4800.0\n",
            "1      Bob  102         IT   52000  5200.0\n",
            "2  Charlie  103    Finance   60000  6000.0\n",
            "3    Diana  104  Marketing   45000  4500.0\n",
            "4    Ethan  105         IT   75000  7500.0\n",
            "\n",
            "Total Salary Expense Including Bonuses: $308,000.00\n",
            "\n",
            "DataFrame saved to CSV file: employee_salary_data.csv\n"
          ]
        }
      ]
    }
  ]
}